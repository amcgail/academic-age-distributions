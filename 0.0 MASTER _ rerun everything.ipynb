{
 "cells": [
  {
   "cell_type": "code",
   "execution_count": null,
   "metadata": {},
   "outputs": [],
   "source": [
    "!jupyter nbconvert --ExecutePreprocessor.timeout=600 --to notebook --execute \"journal summary*\""
   ]
  },
  {
   "cell_type": "markdown",
   "metadata": {},
   "source": [
    "# Age distributions etc"
   ]
  },
  {
   "cell_type": "code",
   "execution_count": 15,
   "metadata": {},
   "outputs": [
    {
     "name": "stderr",
     "output_type": "stream",
     "text": [
      "[NbConvertApp] Converting notebook 41a age distributions.ipynb to notebook\n",
      "[NbConvertApp] Executing notebook with kernel: python3\n",
      "[NbConvertApp] Writing 1712170 bytes to 41a age distributions.nbconvert.ipynb\n"
     ]
    }
   ],
   "source": [
    "!jupyter nbconvert --ExecutePreprocessor.timeout=600 --to notebook --execute \"41a*\""
   ]
  },
  {
   "cell_type": "code",
   "execution_count": 19,
   "metadata": {},
   "outputs": [
    {
     "name": "stderr",
     "output_type": "stream",
     "text": [
      "[NbConvertApp] Converting notebook 41b sleeping beauties.ipynb to notebook\n",
      "[NbConvertApp] Executing notebook with kernel: python3\n",
      "[NbConvertApp] ERROR | Error while converting '41b sleeping beauties.ipynb'\n",
      "Traceback (most recent call last):\n",
      "  File \"c:\\users\\amcga\\envs\\citation-deaths\\lib\\site-packages\\nbconvert\\nbconvertapp.py\", line 410, in export_single_notebook\n",
      "    output, resources = self.exporter.from_filename(notebook_filename, resources=resources)\n",
      "  File \"c:\\users\\amcga\\envs\\citation-deaths\\lib\\site-packages\\nbconvert\\exporters\\exporter.py\", line 179, in from_filename\n",
      "    return self.from_file(f, resources=resources, **kw)\n",
      "  File \"c:\\users\\amcga\\envs\\citation-deaths\\lib\\site-packages\\nbconvert\\exporters\\exporter.py\", line 197, in from_file\n",
      "    return self.from_notebook_node(nbformat.read(file_stream, as_version=4), resources=resources, **kw)\n",
      "  File \"c:\\users\\amcga\\envs\\citation-deaths\\lib\\site-packages\\nbconvert\\exporters\\notebook.py\", line 32, in from_notebook_node\n",
      "    nb_copy, resources = super(NotebookExporter, self).from_notebook_node(nb, resources, **kw)\n",
      "  File \"c:\\users\\amcga\\envs\\citation-deaths\\lib\\site-packages\\nbconvert\\exporters\\exporter.py\", line 139, in from_notebook_node\n",
      "    nb_copy, resources = self._preprocess(nb_copy, resources)\n",
      "  File \"c:\\users\\amcga\\envs\\citation-deaths\\lib\\site-packages\\nbconvert\\exporters\\exporter.py\", line 316, in _preprocess\n",
      "    nbc, resc = preprocessor(nbc, resc)\n",
      "  File \"c:\\users\\amcga\\envs\\citation-deaths\\lib\\site-packages\\nbconvert\\preprocessors\\base.py\", line 47, in __call__\n",
      "    return self.preprocess(nb, resources)\n",
      "  File \"c:\\users\\amcga\\envs\\citation-deaths\\lib\\site-packages\\nbconvert\\preprocessors\\execute.py\", line 405, in preprocess\n",
      "    nb, resources = super(ExecutePreprocessor, self).preprocess(nb, resources)\n",
      "  File \"c:\\users\\amcga\\envs\\citation-deaths\\lib\\site-packages\\nbconvert\\preprocessors\\base.py\", line 69, in preprocess\n",
      "    nb.cells[index], resources = self.preprocess_cell(cell, resources, index)\n",
      "  File \"c:\\users\\amcga\\envs\\citation-deaths\\lib\\site-packages\\nbconvert\\preprocessors\\execute.py\", line 448, in preprocess_cell\n",
      "    raise CellExecutionError.from_cell_and_msg(cell, out)\n",
      "nbconvert.preprocessors.execute.CellExecutionError: An error occurred while executing the following cell:\n",
      "------------------\n",
      "filt = sorted(filt, key=lambda x: x[0].name)\n",
      "\n",
      "viz.author_pub_table([x[0].name for x in filt], db, myname='top_sleeping',cols=3,print_names=fmt)\n",
      "------------------\n",
      "\n",
      "---------------------------------------------------------------------------\n",
      "AttributeError                            Traceback (most recent call last)\n",
      "<ipython-input-22-bce5449dea07> in <module>\n",
      "      1 filt = sorted(filt, key=lambda x: x[0].name)\n",
      "      2 \n",
      "----> 3 viz.author_pub_table([x[0].name for x in filt], db, myname='top_sleeping',cols=3,print_names=fmt)\n",
      "\n",
      "~\\GitHub\\knowknow\\knowknow\\viz.py in author_pub_table(dta, who, **kwargs)\n",
      "    514 \n",
      "    515 def author_pub_table(dta, who, **kwargs):\n",
      "--> 516     yearly_counts_table(dta, dta.search('c', who + \"|\"), **kwargs)\n",
      "\n",
      "AttributeError: 'list' object has no attribute 'search'\n",
      "AttributeError: 'list' object has no attribute 'search'\n",
      "\n"
     ]
    }
   ],
   "source": [
    "!jupyter nbconvert --ExecutePreprocessor.timeout=600 --to notebook --execute \"41b*\""
   ]
  },
  {
   "cell_type": "markdown",
   "metadata": {},
   "source": [
    "# Death"
   ]
  },
  {
   "cell_type": "code",
   "execution_count": null,
   "metadata": {},
   "outputs": [],
   "source": [
    "!jupyter nbconvert --ExecutePreprocessor.timeout=600 --to html --execute \"72*\""
   ]
  },
  {
   "cell_type": "code",
   "execution_count": 8,
   "metadata": {},
   "outputs": [
    {
     "name": "stderr",
     "output_type": "stream",
     "text": [
      "[NbConvertApp] Converting notebook 72a make date of death df.ipynb to notebook\n",
      "[NbConvertApp] Executing notebook with kernel: python3\n",
      "[NbConvertApp] Writing 28938 bytes to 72a make date of death df.nbconvert.ipynb\n"
     ]
    }
   ],
   "source": [
    "!jupyter nbconvert --ExecutePreprocessor.timeout=600 --to notebook --execute \"72a*\""
   ]
  },
  {
   "cell_type": "code",
   "execution_count": 9,
   "metadata": {},
   "outputs": [
    {
     "name": "stderr",
     "output_type": "stream",
     "text": [
      "[NbConvertApp] Converting notebook 72b death.ipynb to notebook\n",
      "[NbConvertApp] Executing notebook with kernel: python3\n",
      "[NbConvertApp] ERROR | Error while converting '72b death.ipynb'\n",
      "Traceback (most recent call last):\n",
      "  File \"c:\\users\\amcga\\envs\\citation-deaths\\lib\\site-packages\\nbconvert\\nbconvertapp.py\", line 410, in export_single_notebook\n",
      "    output, resources = self.exporter.from_filename(notebook_filename, resources=resources)\n",
      "  File \"c:\\users\\amcga\\envs\\citation-deaths\\lib\\site-packages\\nbconvert\\exporters\\exporter.py\", line 179, in from_filename\n",
      "    return self.from_file(f, resources=resources, **kw)\n",
      "  File \"c:\\users\\amcga\\envs\\citation-deaths\\lib\\site-packages\\nbconvert\\exporters\\exporter.py\", line 197, in from_file\n",
      "    return self.from_notebook_node(nbformat.read(file_stream, as_version=4), resources=resources, **kw)\n",
      "  File \"c:\\users\\amcga\\envs\\citation-deaths\\lib\\site-packages\\nbconvert\\exporters\\notebook.py\", line 32, in from_notebook_node\n",
      "    nb_copy, resources = super(NotebookExporter, self).from_notebook_node(nb, resources, **kw)\n",
      "  File \"c:\\users\\amcga\\envs\\citation-deaths\\lib\\site-packages\\nbconvert\\exporters\\exporter.py\", line 139, in from_notebook_node\n",
      "    nb_copy, resources = self._preprocess(nb_copy, resources)\n",
      "  File \"c:\\users\\amcga\\envs\\citation-deaths\\lib\\site-packages\\nbconvert\\exporters\\exporter.py\", line 316, in _preprocess\n",
      "    nbc, resc = preprocessor(nbc, resc)\n",
      "  File \"c:\\users\\amcga\\envs\\citation-deaths\\lib\\site-packages\\nbconvert\\preprocessors\\base.py\", line 47, in __call__\n",
      "    return self.preprocess(nb, resources)\n",
      "  File \"c:\\users\\amcga\\envs\\citation-deaths\\lib\\site-packages\\nbconvert\\preprocessors\\execute.py\", line 405, in preprocess\n",
      "    nb, resources = super(ExecutePreprocessor, self).preprocess(nb, resources)\n",
      "  File \"c:\\users\\amcga\\envs\\citation-deaths\\lib\\site-packages\\nbconvert\\preprocessors\\base.py\", line 69, in preprocess\n",
      "    nb.cells[index], resources = self.preprocess_cell(cell, resources, index)\n",
      "  File \"c:\\users\\amcga\\envs\\citation-deaths\\lib\\site-packages\\nbconvert\\preprocessors\\execute.py\", line 448, in preprocess_cell\n",
      "    raise CellExecutionError.from_cell_and_msg(cell, out)\n",
      "nbconvert.preprocessors.execute.CellExecutionError: An error occurred while executing the following cell:\n",
      "------------------\n",
      "births_deaths = require('citation-deaths/births_deaths')\n",
      "------------------\n",
      "\n",
      "---------------------------------------------------------------------------\n",
      "TypeError                                 Traceback (most recent call last)\n",
      "<ipython-input-3-063ccbcbc988> in <module>\n",
      "----> 1 births_deaths = require('citation-deaths/births_deaths')\n",
      "\n",
      "TypeError: require() missing 1 required positional argument: 'what'\n",
      "TypeError: require() missing 1 required positional argument: 'what'\n",
      "\n"
     ]
    }
   ],
   "source": [
    "!jupyter nbconvert --ExecutePreprocessor.timeout=600 --to notebook --execute \"72b*\""
   ]
  },
  {
   "cell_type": "code",
   "execution_count": 10,
   "metadata": {},
   "outputs": [
    {
     "name": "stderr",
     "output_type": "stream",
     "text": [
      "[NbConvertApp] Converting notebook 72c remarkable deaths.ipynb to notebook\n",
      "[NbConvertApp] Executing notebook with kernel: python3\n",
      "[NbConvertApp] ERROR | Error while converting '72c remarkable deaths.ipynb'\n",
      "Traceback (most recent call last):\n",
      "  File \"c:\\users\\amcga\\envs\\citation-deaths\\lib\\site-packages\\nbconvert\\nbconvertapp.py\", line 410, in export_single_notebook\n",
      "    output, resources = self.exporter.from_filename(notebook_filename, resources=resources)\n",
      "  File \"c:\\users\\amcga\\envs\\citation-deaths\\lib\\site-packages\\nbconvert\\exporters\\exporter.py\", line 179, in from_filename\n",
      "    return self.from_file(f, resources=resources, **kw)\n",
      "  File \"c:\\users\\amcga\\envs\\citation-deaths\\lib\\site-packages\\nbconvert\\exporters\\exporter.py\", line 197, in from_file\n",
      "    return self.from_notebook_node(nbformat.read(file_stream, as_version=4), resources=resources, **kw)\n",
      "  File \"c:\\users\\amcga\\envs\\citation-deaths\\lib\\site-packages\\nbconvert\\exporters\\notebook.py\", line 32, in from_notebook_node\n",
      "    nb_copy, resources = super(NotebookExporter, self).from_notebook_node(nb, resources, **kw)\n",
      "  File \"c:\\users\\amcga\\envs\\citation-deaths\\lib\\site-packages\\nbconvert\\exporters\\exporter.py\", line 139, in from_notebook_node\n",
      "    nb_copy, resources = self._preprocess(nb_copy, resources)\n",
      "  File \"c:\\users\\amcga\\envs\\citation-deaths\\lib\\site-packages\\nbconvert\\exporters\\exporter.py\", line 316, in _preprocess\n",
      "    nbc, resc = preprocessor(nbc, resc)\n",
      "  File \"c:\\users\\amcga\\envs\\citation-deaths\\lib\\site-packages\\nbconvert\\preprocessors\\base.py\", line 47, in __call__\n",
      "    return self.preprocess(nb, resources)\n",
      "  File \"c:\\users\\amcga\\envs\\citation-deaths\\lib\\site-packages\\nbconvert\\preprocessors\\execute.py\", line 405, in preprocess\n",
      "    nb, resources = super(ExecutePreprocessor, self).preprocess(nb, resources)\n",
      "  File \"c:\\users\\amcga\\envs\\citation-deaths\\lib\\site-packages\\nbconvert\\preprocessors\\base.py\", line 69, in preprocess\n",
      "    nb.cells[index], resources = self.preprocess_cell(cell, resources, index)\n",
      "  File \"c:\\users\\amcga\\envs\\citation-deaths\\lib\\site-packages\\nbconvert\\preprocessors\\execute.py\", line 448, in preprocess_cell\n",
      "    raise CellExecutionError.from_cell_and_msg(cell, out)\n",
      "nbconvert.preprocessors.execute.CellExecutionError: An error occurred while executing the following cell:\n",
      "------------------\n",
      "td = require('stats/top_decade_stratified')\n",
      "------------------\n",
      "\n",
      "---------------------------------------------------------------------------\n",
      "TypeError                                 Traceback (most recent call last)\n",
      "<ipython-input-3-8b8f90472965> in <module>\n",
      "----> 1 td = require('stats/top_decade_stratified')\n",
      "\n",
      "TypeError: require() missing 1 required positional argument: 'what'\n",
      "TypeError: require() missing 1 required positional argument: 'what'\n",
      "\n"
     ]
    }
   ],
   "source": [
    "!jupyter nbconvert --ExecutePreprocessor.timeout=600 --to notebook --execute \"72c*\""
   ]
  },
  {
   "cell_type": "code",
   "execution_count": 11,
   "metadata": {},
   "outputs": [
    {
     "name": "stderr",
     "output_type": "stream",
     "text": [
      "[NbConvertApp] Converting notebook 72d rebirths.ipynb to notebook\n",
      "[NbConvertApp] Executing notebook with kernel: python3\n",
      "[NbConvertApp] ERROR | Error while converting '72d rebirths.ipynb'\n",
      "Traceback (most recent call last):\n",
      "  File \"c:\\users\\amcga\\envs\\citation-deaths\\lib\\site-packages\\nbconvert\\nbconvertapp.py\", line 410, in export_single_notebook\n",
      "    output, resources = self.exporter.from_filename(notebook_filename, resources=resources)\n",
      "  File \"c:\\users\\amcga\\envs\\citation-deaths\\lib\\site-packages\\nbconvert\\exporters\\exporter.py\", line 179, in from_filename\n",
      "    return self.from_file(f, resources=resources, **kw)\n",
      "  File \"c:\\users\\amcga\\envs\\citation-deaths\\lib\\site-packages\\nbconvert\\exporters\\exporter.py\", line 197, in from_file\n",
      "    return self.from_notebook_node(nbformat.read(file_stream, as_version=4), resources=resources, **kw)\n",
      "  File \"c:\\users\\amcga\\envs\\citation-deaths\\lib\\site-packages\\nbconvert\\exporters\\notebook.py\", line 32, in from_notebook_node\n",
      "    nb_copy, resources = super(NotebookExporter, self).from_notebook_node(nb, resources, **kw)\n",
      "  File \"c:\\users\\amcga\\envs\\citation-deaths\\lib\\site-packages\\nbconvert\\exporters\\exporter.py\", line 139, in from_notebook_node\n",
      "    nb_copy, resources = self._preprocess(nb_copy, resources)\n",
      "  File \"c:\\users\\amcga\\envs\\citation-deaths\\lib\\site-packages\\nbconvert\\exporters\\exporter.py\", line 316, in _preprocess\n",
      "    nbc, resc = preprocessor(nbc, resc)\n",
      "  File \"c:\\users\\amcga\\envs\\citation-deaths\\lib\\site-packages\\nbconvert\\preprocessors\\base.py\", line 47, in __call__\n",
      "    return self.preprocess(nb, resources)\n",
      "  File \"c:\\users\\amcga\\envs\\citation-deaths\\lib\\site-packages\\nbconvert\\preprocessors\\execute.py\", line 405, in preprocess\n",
      "    nb, resources = super(ExecutePreprocessor, self).preprocess(nb, resources)\n",
      "  File \"c:\\users\\amcga\\envs\\citation-deaths\\lib\\site-packages\\nbconvert\\preprocessors\\base.py\", line 69, in preprocess\n",
      "    nb.cells[index], resources = self.preprocess_cell(cell, resources, index)\n",
      "  File \"c:\\users\\amcga\\envs\\citation-deaths\\lib\\site-packages\\nbconvert\\preprocessors\\execute.py\", line 448, in preprocess_cell\n",
      "    raise CellExecutionError.from_cell_and_msg(cell, out)\n",
      "nbconvert.preprocessors.execute.CellExecutionError: An error occurred while executing the following cell:\n",
      "------------------\n",
      "names = []\n",
      "markers = {}\n",
      "for i,x in rebirths.sort_values('life1_avg1', ascending=False).iterrows():\n",
      "    names.append(x['name'])\n",
      "    markers[x['name']] = [x['death1'],x['rebirth1_10']]\n",
      "    \n",
      "viz.yearly_counts(names, db, markers=markers, cols=3, myname=\"rebirths\")\n",
      "------------------\n",
      "\n",
      "---------------------------------------------------------------------------\n",
      "AttributeError                            Traceback (most recent call last)\n",
      "<ipython-input-8-0d8df6c76cbb> in <module>\n",
      "      5     markers[x['name']] = [x['death1'],x['rebirth1_10']]\n",
      "      6 \n",
      "----> 7 viz.yearly_counts(names, db, markers=markers, cols=3, myname=\"rebirths\")\n",
      "\n",
      "AttributeError: module 'knowknow.viz' has no attribute 'yearly_counts'\n",
      "AttributeError: module 'knowknow.viz' has no attribute 'yearly_counts'\n",
      "\n"
     ]
    }
   ],
   "source": [
    "!jupyter nbconvert --ExecutePreprocessor.timeout=600 --to notebook --execute \"72d*\""
   ]
  },
  {
   "cell_type": "markdown",
   "metadata": {},
   "source": [
    "# Networks"
   ]
  },
  {
   "cell_type": "code",
   "execution_count": null,
   "metadata": {},
   "outputs": [],
   "source": [
    "!jupyter nbconvert --ExecutePreprocessor.timeout=600 --to notebook --execute \"journal-journal*\""
   ]
  }
 ],
 "metadata": {
  "kernelspec": {
   "display_name": "Python 3",
   "language": "python",
   "name": "python3"
  },
  "language_info": {
   "codemirror_mode": {
    "name": "ipython",
    "version": 3
   },
   "file_extension": ".py",
   "mimetype": "text/x-python",
   "name": "python",
   "nbconvert_exporter": "python",
   "pygments_lexer": "ipython3",
   "version": "3.7.5"
  }
 },
 "nbformat": 4,
 "nbformat_minor": 4
}
